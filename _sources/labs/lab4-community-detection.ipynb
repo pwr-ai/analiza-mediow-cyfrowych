{
 "cells": [
  {
   "cell_type": "markdown",
   "id": "cardiovascular-toyota",
   "metadata": {},
   "source": [
    "# Materiały do zadań - grafy"
   ]
  },
  {
   "cell_type": "markdown",
   "id": "intelligent-cancer",
   "metadata": {},
   "source": [
    "## Podstawowa funkcjonalność biblioteki networkx\n",
    "\n",
    "Poniższy materiały opisują tylko fragment możliwości biblioteki. Pełna dokumentacja znajduje się pod adresem: [[LINK]](https://networkx.org/documentation/stable/_downloads/networkx_reference.pdf), gdzie można znaleźć np. inne metody wczytywania grafów, algorytmy, narzędzia itp."
   ]
  },
  {
   "cell_type": "code",
   "execution_count": null,
   "id": "surprising-church",
   "metadata": {},
   "outputs": [],
   "source": [
    "import networkx as nx"
   ]
  },
  {
   "cell_type": "markdown",
   "id": "civil-absorption",
   "metadata": {},
   "source": [
    "### Tworzenie grafu"
   ]
  },
  {
   "cell_type": "markdown",
   "id": "unusual-invite",
   "metadata": {},
   "source": [
    "Graf możemy utworzyć korzystając z klasy `nx.Graph`"
   ]
  },
  {
   "cell_type": "code",
   "execution_count": null,
   "id": "innocent-highlight",
   "metadata": {},
   "outputs": [],
   "source": [
    "graph = nx.Graph()"
   ]
  },
  {
   "cell_type": "markdown",
   "id": "artistic-panama",
   "metadata": {},
   "source": [
    "Następnie możemy dodać krawędzie do grafu za pomocą metody `add_edge`"
   ]
  },
  {
   "cell_type": "code",
   "execution_count": null,
   "id": "funky-street",
   "metadata": {},
   "outputs": [],
   "source": [
    "graph.add_edge(1, 2)\n",
    "graph.add_edge(1, 3)\n",
    "graph.add_edge(2, 3)\n",
    "graph.add_edge(1, 4)\n",
    "graph.add_edge(2, 4)"
   ]
  },
  {
   "cell_type": "markdown",
   "id": "controlling-residence",
   "metadata": {},
   "source": [
    "Możemy też dodać samego wierzchołka zapomocą metody `add_node`"
   ]
  },
  {
   "cell_type": "code",
   "execution_count": null,
   "id": "dominican-amsterdam",
   "metadata": {},
   "outputs": [],
   "source": [
    "graph.add_node(5)"
   ]
  },
  {
   "cell_type": "markdown",
   "id": "second-cathedral",
   "metadata": {},
   "source": [
    "W takim ustawieniu mamy graf, które posiada wierzchołki izolowane (nie posiadające krawędzi). W celu sprawdzenia czy w grafie mamy izolowane wierzchołki możemy wykorzystać metodę `isolates()` z modułu `networkx`"
   ]
  },
  {
   "cell_type": "code",
   "execution_count": null,
   "id": "transsexual-training",
   "metadata": {},
   "outputs": [],
   "source": [
    "list(nx.isolates(graph))"
   ]
  },
  {
   "cell_type": "markdown",
   "id": "photographic-junior",
   "metadata": {},
   "source": [
    "Listę krawędzi możemy wyświetlić za pomocy metody `edges`"
   ]
  },
  {
   "cell_type": "code",
   "execution_count": null,
   "id": "addressed-pillow",
   "metadata": {},
   "outputs": [],
   "source": [
    "graph.edges()"
   ]
  },
  {
   "cell_type": "markdown",
   "id": "curious-aircraft",
   "metadata": {},
   "source": [
    "Warto zauważyć, że zwracany obiekt nie jest pythonową listą, lecz obiektem `EdgeView`.Kiedy chcemy wykorzystać ten obiekt do przetwarzania poza interfejsem biblioteki `networkx`, w celu uniknięcia błędów lepiej go sprowadzić do standardowego typu lub `np.ndarray`."
   ]
  },
  {
   "cell_type": "markdown",
   "id": "analyzed-threshold",
   "metadata": {},
   "source": [
    "Graf możemy również za pomocą listy krawędzi"
   ]
  },
  {
   "cell_type": "code",
   "execution_count": null,
   "id": "constant-consciousness",
   "metadata": {},
   "outputs": [],
   "source": [
    "nx.from_edgelist(\n",
    "    edgelist=[(1, 2), (1, 3), (1, 4), (2, 3), (2, 4)]\n",
    ").edges()"
   ]
  },
  {
   "cell_type": "markdown",
   "id": "accompanied-while",
   "metadata": {},
   "source": [
    "Dostęp do listy wierzchołków odbywa się za pomocą metody `nodes`. Tutaj także zwracany jest obiekt networkx `NodeView`"
   ]
  },
  {
   "cell_type": "code",
   "execution_count": null,
   "id": "eligible-calendar",
   "metadata": {
    "scrolled": true
   },
   "outputs": [],
   "source": [
    "graph.nodes()"
   ]
  },
  {
   "cell_type": "markdown",
   "id": "wrong-metropolitan",
   "metadata": {},
   "source": [
    "### Podstawowe statystyki grafowe"
   ]
  },
  {
   "cell_type": "markdown",
   "id": "decent-organic",
   "metadata": {},
   "source": [
    "Liczba wierzchołków"
   ]
  },
  {
   "cell_type": "code",
   "execution_count": null,
   "id": "handled-exemption",
   "metadata": {},
   "outputs": [],
   "source": [
    "len(graph)"
   ]
  },
  {
   "cell_type": "code",
   "execution_count": null,
   "id": "sustained-smart",
   "metadata": {
    "scrolled": true
   },
   "outputs": [],
   "source": [
    "graph.number_of_nodes()"
   ]
  },
  {
   "cell_type": "markdown",
   "id": "suitable-threshold",
   "metadata": {},
   "source": [
    "Liczba krawędzi"
   ]
  },
  {
   "cell_type": "code",
   "execution_count": null,
   "id": "selected-committee",
   "metadata": {},
   "outputs": [],
   "source": [
    "graph.number_of_edges()"
   ]
  },
  {
   "cell_type": "markdown",
   "id": "preliminary-usage",
   "metadata": {},
   "source": [
    "Stopnie wierzchołków"
   ]
  },
  {
   "cell_type": "code",
   "execution_count": null,
   "id": "essential-politics",
   "metadata": {},
   "outputs": [],
   "source": [
    "graph.degree()"
   ]
  },
  {
   "cell_type": "markdown",
   "id": "atlantic-glasgow",
   "metadata": {},
   "source": [
    "### Operacje na \"słowniku\" w networkx"
   ]
  },
  {
   "cell_type": "markdown",
   "id": "limited-serbia",
   "metadata": {},
   "source": [
    "`Networkx` pod spodem wykorzystuję strukturą opartą o słowniki, co umożliwia  wspiera wiele operacji w podobny sposób"
   ]
  },
  {
   "cell_type": "markdown",
   "id": "ranking-explosion",
   "metadata": {},
   "source": [
    "Za pomocą standardowego indeksowania mamy dostęp do sąsiadów danego wierzchołka"
   ]
  },
  {
   "cell_type": "code",
   "execution_count": null,
   "id": "concrete-helmet",
   "metadata": {},
   "outputs": [],
   "source": [
    "graph[1]"
   ]
  },
  {
   "cell_type": "markdown",
   "id": "awful-sessions",
   "metadata": {},
   "source": [
    "Widok wyświetla również atrybuty wyrzchołków, w przypadku tego grafu nie ma atrybutów, dlatego zwracane są puste słowniki. W celu wyświetlenia samej listy sąsiadów możemy wykorzystać metodę `neighbors`. Przy korzystaniu z tej metody musimy wcześniej przemapować to na listę."
   ]
  },
  {
   "cell_type": "code",
   "execution_count": null,
   "id": "female-guitar",
   "metadata": {},
   "outputs": [],
   "source": [
    "list(graph.neighbors(1))"
   ]
  },
  {
   "cell_type": "markdown",
   "id": "surface-swaziland",
   "metadata": {},
   "source": [
    "Wykorzystanie dwupoziomowego indeksu zwraca attrybuty danego wierzchołka"
   ]
  },
  {
   "cell_type": "code",
   "execution_count": null,
   "id": "recognized-accountability",
   "metadata": {},
   "outputs": [],
   "source": [
    "graph[1][2]"
   ]
  },
  {
   "cell_type": "markdown",
   "id": "mysterious-irrigation",
   "metadata": {},
   "source": [
    "Sprawdzenie czy wierzchołek występuje w grafie"
   ]
  },
  {
   "cell_type": "code",
   "execution_count": null,
   "id": "affecting-houston",
   "metadata": {},
   "outputs": [],
   "source": [
    "4 in graph"
   ]
  },
  {
   "cell_type": "code",
   "execution_count": null,
   "id": "lightweight-timing",
   "metadata": {},
   "outputs": [],
   "source": [
    "5 in graph"
   ]
  },
  {
   "cell_type": "markdown",
   "id": "opposed-sucking",
   "metadata": {},
   "source": [
    "### Inne typy grafów"
   ]
  },
  {
   "cell_type": "markdown",
   "id": "brilliant-declaration",
   "metadata": {},
   "source": [
    "`nx.Graph` nie jest jedynem typem grafu wspieranym przez bibliotekę `networkx`. Główną różnicą jest wspierany typ krawędzi, rozróżnia się skierowanie krawędzie (posiadają kierunek) oraz równoległe krawezie (powtórzone krawędzie - przydatne w przypadku grafów temporalnych). Porównania typów zawrto w poniższej tabeli.\n",
    "\n",
    "| Typ | Skierowane krawędzie | Równoległe Krawędzie |\n",
    "| --- | --- | -- | \n",
    "| `nx.Graph` | - | - | \n",
    "| `nx.DiGraph` | + | - |\n",
    "| `nx.MultiGraph` | - | + |\n",
    "| `nx.MultiDiGraph` | + | + |"
   ]
  },
  {
   "cell_type": "markdown",
   "id": "answering-audio",
   "metadata": {},
   "source": [
    "Skierowanie krawędzi w grafie możemy zmienić za pomocą metody `to_directed()` lub `to_undirected()`"
   ]
  },
  {
   "cell_type": "code",
   "execution_count": null,
   "id": "computational-weapon",
   "metadata": {},
   "outputs": [],
   "source": [
    "directed_graph = graph.to_directed()"
   ]
  },
  {
   "cell_type": "code",
   "execution_count": null,
   "id": "extreme-shipping",
   "metadata": {},
   "outputs": [],
   "source": [
    "directed_graph.edges()"
   ]
  },
  {
   "cell_type": "markdown",
   "id": "stunning-housing",
   "metadata": {},
   "source": [
    "## Rysowanie grafów"
   ]
  },
  {
   "cell_type": "markdown",
   "id": "previous-chance",
   "metadata": {},
   "source": [
    "Do wyrysowania grafu możemy wykorzystać interfejs `nx.draw`"
   ]
  },
  {
   "cell_type": "code",
   "execution_count": null,
   "id": "sporting-needle",
   "metadata": {},
   "outputs": [],
   "source": [
    "nx.draw(graph)"
   ]
  },
  {
   "cell_type": "markdown",
   "id": "usual-currency",
   "metadata": {},
   "source": [
    "Niestety domyślny interfejs nie pozwala zaobserować dużo, dlatego autorzy rekomendują wykorzystanie bibliotek dedykowanych do rysowania grafów takich jak `Cytoscape`, `Gephi` czy `Graphviz`."
   ]
  },
  {
   "cell_type": "markdown",
   "id": "individual-premium",
   "metadata": {},
   "source": [
    "### Interaktywne wykresy z wykrozystaniem plotly"
   ]
  },
  {
   "cell_type": "markdown",
   "id": "subsequent-importance",
   "metadata": {},
   "source": [
    "My wykorzystamy inną ścieżkę, mianowicie wykorzystamy plotly. Materiał przygotowany na bazie tutorialu https://plotly.com/python/network-graphs/. Niestety plotly nie oferuje gotowych interfejsów do wizualizacji grafów, także musimy przejść ręcznie przez ich utworzenie."
   ]
  },
  {
   "cell_type": "markdown",
   "id": "legendary-bridal",
   "metadata": {},
   "source": [
    "Pierwszym wymaganym elementem jest pozycjonowanie wierzchołków w grafie. Do tego możemy wykorzystać gotowe funkcje znajdujące się w module `networkx.drawing.layout`. "
   ]
  },
  {
   "cell_type": "markdown",
   "id": "green-consultation",
   "metadata": {},
   "source": [
    "Do interaktywnych wykresów wykorzystamy graf z większą liczbą wierzchołków i krawędzi w tym celu wykorzystamy generator."
   ]
  },
  {
   "cell_type": "code",
   "execution_count": null,
   "id": "amended-morning",
   "metadata": {},
   "outputs": [],
   "source": [
    "graph = nx.fast_gnp_random_graph(n=50, p=0.03)"
   ]
  },
  {
   "cell_type": "code",
   "execution_count": null,
   "id": "compressed-harmony",
   "metadata": {},
   "outputs": [],
   "source": [
    "nx.draw(graph, pos=nx.drawing.layout.shell_layout(graph))"
   ]
  },
  {
   "cell_type": "code",
   "execution_count": null,
   "id": "desirable-teaching",
   "metadata": {},
   "outputs": [],
   "source": [
    "positions = nx.drawing.layout.shell_layout(graph)"
   ]
  },
  {
   "cell_type": "markdown",
   "id": "divine-mirror",
   "metadata": {},
   "source": [
    "Następnie mając pozycje wyrysujmy najpierw wierzchołki z wykorzystaniem metody `go.Scatter`."
   ]
  },
  {
   "cell_type": "code",
   "execution_count": null,
   "id": "light-dietary",
   "metadata": {},
   "outputs": [],
   "source": [
    "import plotly.graph_objects as go\n",
    "\n",
    "node_x = []\n",
    "node_y = []\n",
    "\n",
    "for node in graph:\n",
    "    x, y = positions[node]\n",
    "    node_x.append(x)\n",
    "    node_y.append(y)\n",
    "\n",
    "node_trace = go.Scatter(\n",
    "    x=node_x,\n",
    "    y=node_y,\n",
    "    mode=\"markers\",\n",
    "    hoverinfo=\"text\",\n",
    "    text=list(graph.nodes()),\n",
    "    marker=dict(\n",
    "        size=10,\n",
    "        line_width=2,\n",
    "    ),\n",
    ")"
   ]
  },
  {
   "cell_type": "markdown",
   "id": "mental-waterproof",
   "metadata": {},
   "source": [
    "Możemy teraz wyświetlić obecny stan naszego wykresu.\n"
   ]
  },
  {
   "cell_type": "code",
   "execution_count": null,
   "id": "fitting-auction",
   "metadata": {},
   "outputs": [],
   "source": [
    "fig = go.Figure(node_trace)\n",
    "fig.show()"
   ]
  },
  {
   "cell_type": "markdown",
   "id": "heard-compensation",
   "metadata": {},
   "source": [
    "Teraz dodajmy krawędzie"
   ]
  },
  {
   "cell_type": "code",
   "execution_count": null,
   "id": "grand-rescue",
   "metadata": {},
   "outputs": [],
   "source": [
    "edge_x = []\n",
    "edge_y = []\n",
    "\n",
    "for edge in graph.edges():\n",
    "    x0, y0 = positions[edge[0]]\n",
    "    x1, y1 = positions[edge[1]]\n",
    "    edge_x.append(x0)\n",
    "    edge_x.append(x1)\n",
    "    edge_y.append(y0)\n",
    "    edge_y.append(y1)\n",
    "    \n",
    "edge_trace = go.Scatter(\n",
    "    x=edge_x,\n",
    "    y=edge_y,\n",
    "    line=dict(width=0.5, color=\"#888\"), # Dodane w celu poprawy czytelności\n",
    "    hoverinfo=\"none\",\n",
    "    mode=\"lines\",\n",
    "    showlegend=False\n",
    ")"
   ]
  },
  {
   "cell_type": "code",
   "execution_count": null,
   "id": "cultural-configuration",
   "metadata": {},
   "outputs": [],
   "source": [
    "fig = go.Figure([edge_trace, node_trace])\n",
    "fig.show()"
   ]
  },
  {
   "cell_type": "markdown",
   "id": "conditional-transcription",
   "metadata": {},
   "source": [
    "Teraz wprowadźmy jeszcze kilka poprawek usprawniającyh czytelność wykresu"
   ]
  },
  {
   "cell_type": "code",
   "execution_count": null,
   "id": "accepting-concord",
   "metadata": {},
   "outputs": [],
   "source": [
    "fig = go.Figure(\n",
    "    data=[edge_trace, node_trace],\n",
    "    layout=go.Layout(\n",
    "        title=\"Interaktywny wykres\",\n",
    "        titlefont_size=16,\n",
    "        showlegend=False,\n",
    "        hovermode=\"closest\",\n",
    "        annotations=[\n",
    "            dict(\n",
    "                text=\"\",\n",
    "                showarrow=False,\n",
    "                xref=\"paper\",\n",
    "                yref=\"paper\",\n",
    "                x=0.005,\n",
    "                y=-0.002,\n",
    "            )\n",
    "        ],\n",
    "        xaxis=dict(showgrid=False, zeroline=False, showticklabels=False),\n",
    "        yaxis=dict(showgrid=False, zeroline=False, showticklabels=False),\n",
    "    ),\n",
    ")\n",
    "\n",
    "fig.show()"
   ]
  },
  {
   "cell_type": "markdown",
   "id": "subjective-anaheim",
   "metadata": {},
   "source": [
    "Możemy oznaczyć również grupowanie wierzchołków. Wygenerujmy przykładowe mapowanie."
   ]
  },
  {
   "cell_type": "code",
   "execution_count": null,
   "id": "advisory-transmission",
   "metadata": {},
   "outputs": [],
   "source": [
    "import numpy as np\n",
    "\n",
    "groups = np.array_split(graph.nodes(), 4)"
   ]
  },
  {
   "cell_type": "markdown",
   "id": "allied-warning",
   "metadata": {},
   "source": [
    "Teraz zmienimy metodę rysowania wierzchołków"
   ]
  },
  {
   "cell_type": "code",
   "execution_count": null,
   "id": "interesting-administration",
   "metadata": {},
   "outputs": [],
   "source": [
    "node_traces = []\n",
    "for group_id, node_group in enumerate(groups):\n",
    "    node_x = []\n",
    "    node_y = []\n",
    "    for node in node_group:\n",
    "        x, y = positions[node]\n",
    "        node_x.append(x)\n",
    "        node_y.append(y)\n",
    "\n",
    "    node_traces.append(\n",
    "        go.Scatter(\n",
    "            x=node_x,\n",
    "            y=node_y,\n",
    "            mode=\"markers\",\n",
    "            hoverinfo=\"text\",\n",
    "            text=node_group,\n",
    "            name=group_id,\n",
    "            marker=dict(\n",
    "                size=10,\n",
    "                line_width=2,\n",
    "            ),\n",
    "            legendgroup=f\"{group_id}\",\n",
    "        \n",
    "        )\n",
    "    )"
   ]
  },
  {
   "cell_type": "code",
   "execution_count": null,
   "id": "stretch-laundry",
   "metadata": {},
   "outputs": [],
   "source": [
    "fig = go.Figure(node_traces)\n",
    "fig.show()"
   ]
  },
  {
   "cell_type": "code",
   "execution_count": null,
   "id": "equipped-finger",
   "metadata": {},
   "outputs": [],
   "source": [
    "fig = go.Figure(\n",
    "    data=[edge_trace, *node_traces],\n",
    "    layout=go.Layout(\n",
    "        title=\"Interaktywny wykres z wyróżnieniem grup\",\n",
    "        titlefont_size=16,\n",
    "        showlegend=True,\n",
    "        hovermode=\"closest\",\n",
    "        annotations=[\n",
    "            dict(\n",
    "                text=\"\",\n",
    "                showarrow=False,\n",
    "                xref=\"paper\",\n",
    "                yref=\"paper\",\n",
    "                x=0.005,\n",
    "                y=-0.002,\n",
    "            )\n",
    "        ],\n",
    "        xaxis=dict(showgrid=False, zeroline=False, showticklabels=False),\n",
    "        yaxis=dict(showgrid=False, zeroline=False, showticklabels=False),\n",
    "        legend_title_text=\"Group\"\n",
    "    ),\n",
    ")\n",
    "\n",
    "fig.update_layout(legend_itemclick=False)\n",
    "fig.show()"
   ]
  }
 ],
 "metadata": {
  "kernelspec": {
   "display_name": "Python 3",
   "language": "python",
   "name": "python3"
  },
  "language_info": {
   "codemirror_mode": {
    "name": "ipython",
    "version": 3
   },
   "file_extension": ".py",
   "mimetype": "text/x-python",
   "name": "python",
   "nbconvert_exporter": "python",
   "pygments_lexer": "ipython3",
   "version": "3.8.8"
  }
 },
 "nbformat": 4,
 "nbformat_minor": 5
}
