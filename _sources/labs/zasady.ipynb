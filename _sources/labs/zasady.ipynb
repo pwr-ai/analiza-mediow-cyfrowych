{
 "cells": [
  {
   "cell_type": "markdown",
   "id": "perfect-speaking",
   "metadata": {},
   "source": [
    "# Zasady laboratorium"
   ]
  },
  {
   "cell_type": "markdown",
   "id": "attractive-restoration",
   "metadata": {},
   "source": [
    "## Plan kursu\n",
    "---\n",
    "\n",
    "| Nr lab. | Temat laboratorium | Data grup TP | Data grup TN | \n",
    "| --- | :--- | :---: | :---: | \n",
    "| 1 | Wprowadzenie do zajęć| 2022-10-06 | 2022-10-06 | \n",
    "| 2 | Pozyskiwanie danych i ocena popularności w mediach cyfrowych | 2022-10-20 | 2022-10-13 | \n",
    "| 3 | Ocena partycypacji w mediach cyfrowych | 2022-11-03 | 2022-10-27 | \n",
    "| 4 | Metody analizy społeczności w mediach społecznościowych | 2022-11-10 | 2022-11-10 |\n",
    "| 5 | Zajęcia projektowe | 2022-12-01 | 2021-11-24 | \n",
    "| 6 | Zajęcia projektowe | 2022-12-15 | 2021-12-08 |  \n",
    "| 7 | Zajęcia projektowe | 2023-01-12 | 2022-12-22 | \n",
    "| 8 | Zajęcia projektowe | 2023-01-26 | 2023-01-19 | \n",
    "| 9 | Sesja plakatowa | * | * | \n",
    "\n",
    "* ostatnie zajęcia (Sesja plakatowa) w dodatkowym terminie, ok 01.02.2023"
   ]
  },
  {
   "cell_type": "markdown",
   "id": "logical-sleep",
   "metadata": {},
   "source": [
    "## Zasady laboratorium\n",
    "---\n",
    "\n",
    "### Zajęcia\n",
    "1. Kurs składa się z 8 zajęć.\n",
    "1. Pierwsze zajęcia są organizacyjne.\n",
    "1. Kolejne 3 zajęcia składać się będzie ze wstępu teoretycznego okraszonego przykładami i zestawu zadań do wykonania.\n",
    "1. Ostatnie 4 zajęcia będą projektem polegającym na rozwiązaniu w grupie realnego problemu analizy mediów cyfrowych, bazując na wiedzy z poprzednich zajęć.\n",
    "\n",
    "### Wykonywanie zadań\n",
    "1. Zadania wykonujemy przy pomocy środowiska Github Classroom.\n",
    "1. Każdy rozwiązuje zadania indywidualnie, a wykryte plagiaty skutkują niezaliczeniem laboratorium.\n",
    "1. Materiały do laboratorium będą dostarczone w postaci Jupyter Book, a zadania w formie repozytorium na platformie Github Classroom. \n",
    "1. Jako oddanie zadania do oceny rozumiemy commit kodu rozwiązującego zadanie do odpowiedniego repozytorium.\n",
    "1. Termin oddania zadań mija o północy przed kolejnymi zajęciami\n",
    "\n",
    "### Projekt\n",
    "1. Projekt realizujemy w grupie max 3 osobowej.\n",
    "1. Projekt może być powiązany tematycznie z innymi kursami, projektami i badaniami w trakcie semestru.\n",
    "1. Podstawą realizacji projektu jest dokument \"Propozycja projektu\"\n",
    "1. Termin oddania wypełnionej \"Propozycji projektu\" to 4 zajęcia\n",
    "1. Dokument musi zostać zaakceptowany przez prowadzącego zajęcia"
   ]
  },
  {
   "cell_type": "markdown",
   "id": "e96fc4c2",
   "metadata": {},
   "source": [
    "## Ocenianie\n",
    "---\n",
    "\n",
    "### Punktacja zadań\n",
    "1. Rozwiązując zadania (laboratoria 2-4) można zdobyć 20pkt za każde.\n",
    "1. Oddając po terminie, zdobyte punkty przemnażamy przez 0.75 (tydzien spóźnienia) lub 0.5 (później)\n",
    "1. Możliwe jest zdobycie dodatkowych punktów za wyróżniające się rozwiązania, działania i zachowania.\n",
    "\n",
    "### Punktacja projektu\n",
    "1. Wykonując projekt (laboratoria 5-8) można zdobyć 100pkt\n",
    "1. Planując projekt, należy własnoręcznie wyznaczyć tzw. KPI, wraz z deklaracją terminu realizacji i propozycją wyceny punktów\n",
    "1. Wycena może zostać zmieniona przez prowadzącego podczas ustalania zakresu projektu\n",
    "1. Suma wyceny KPI to 80pkt\n",
    "1. Projekt kończy się prezentacją wyników na sesji plakatowej, podczas której można zdobyć 20pkt.\n",
    "1. Możliwe jest zdobycie dodatkowych punktów za wyróżniające się rozwiązania, działania i zachowania.\n",
    "\n",
    "### Finalna punktacja\n",
    "1. Za zadania można zdobyć max 60pkt (3 x 20pkt)\n",
    "1. Za projekt można zdobyć max 100pkt (80pkt za KPI, 20pkt za prezentację)\n",
    "1. Finalna punktacja liczona jest wg wzoru:\n",
    "\n",
    "`finalne_pkt = 100 * (0.4 * (zdobyte_pkt_za_zadania / 60) + 0.6 * (zdobyte_pkt_za_projekt / 100))`\n",
    "\n",
    "\n",
    "\n",
    "### Skala oceniania:\n",
    "\n",
    "| % pkt | ocena |\n",
    "| --- | :--- |\n",
    "| <50% | brak zaliczenia (2.0)|\n",
    "| \\[50%, 60%\\) | dostateczny (3.0) |\n",
    "| \\[60%, 70%) | dostateczny+ (3.5) |\n",
    "| \\[70%, 80%) | dobry (4.0) |\n",
    "| \\[80%, 90%) | dobry plus (4.5) |\n",
    "| \\[90%, 100%) | bardzo dobry (5.0) |\n",
    "| \\>100% | celujący (5.5) |\n",
    "\n",
    "\n",
    "#### Bezpośredni kontakt:\n",
    "* tomasz.kajdanowicz@pwr.edu.pl\n"
   ]
  },
  {
   "cell_type": "code",
   "execution_count": null,
   "id": "0e54689a",
   "metadata": {},
   "outputs": [],
   "source": []
  }
 ],
 "metadata": {
  "kernelspec": {
   "display_name": "Python 3",
   "language": "python",
   "name": "python3"
  },
  "language_info": {
   "codemirror_mode": {
    "name": "ipython",
    "version": 3
   },
   "file_extension": ".py",
   "mimetype": "text/x-python",
   "name": "python",
   "nbconvert_exporter": "python",
   "pygments_lexer": "ipython3",
   "version": "3.6.5"
  }
 },
 "nbformat": 4,
 "nbformat_minor": 5
}
