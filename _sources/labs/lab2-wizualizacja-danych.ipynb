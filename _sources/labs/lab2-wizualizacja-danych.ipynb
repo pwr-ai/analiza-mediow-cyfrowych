{
 "cells": [
  {
   "cell_type": "markdown",
   "id": "3b7dde16",
   "metadata": {},
   "source": [
    "# Wizualizacja danych"
   ]
  },
  {
   "cell_type": "markdown",
   "id": "f30ca2be",
   "metadata": {},
   "source": [
    "### Najpopularniejsze biblioteki w języku python do budowania interaktywnych wykresów\n",
    "\n",
    "\n",
    "#### Plotly\n",
    "[[Github]](https://github.com/plotly/plotly.py) [[Dokumentacja]](https://plotly.com/python/) [[Przykłady]](https://plotly.com/python/plotly-express/)\n",
    "\n",
    "#### Bokeh\n",
    "[[Github]](https://github.com/bokeh/bokeh) [[Dokumentacja]](https://bokeh.org/) [[Przykłady]](https://mybinder.org/v2/gh/bokeh/bokeh-notebooks/master?filepath=tutorial%2F00%20-%20Introduction%20and%20Setup.ipynb)\n",
    "\n",
    "#### Altair\n",
    "[[Github]](https://github.com/altair-viz/altair) [[Dokumentacja]](https://altair-viz.github.io/) [[Przykłady]](https://altair-viz.github.io/gallery/)\n",
    "\n",
    "\n"
   ]
  },
  {
   "cell_type": "markdown",
   "id": "270bcbc4",
   "metadata": {},
   "source": [
    "### Plotly\n",
    "\n"
   ]
  },
  {
   "cell_type": "markdown",
   "id": "bf9a983f",
   "metadata": {},
   "source": [
    "Do zaprezentowania możliwości plotly wykorzystamy zbiór danych `stocks` udostępniony przez twórców biblioteki. Zbiór zawiera kurs zamknięcia 6 spółek z branży tech (GOOG, AAPL, AMZN, FB, NFLX, MSFT) z lat 2018-2019. Kursy są  w odniesieniu do kursu z 1.01.2018 roku. Dostęp do zbioru uzyskujemy za pomocą modułu `plotly.data`.\n",
    "\n",
    "```python\n",
    "import plotly\n",
    "\n",
    "data = plotly.data.stocks()\n",
    "```"
   ]
  },
  {
   "cell_type": "markdown",
   "id": "f63982d5",
   "metadata": {},
   "source": [
    "Przejdźmy teraz do przygotowania wykresu pokazujące kurs zamknięcia w czasie dla spółki AAPL. Wykorzystamy do tego interfejs `plotly.graph_objects` w tym celu importujemy moduł `plotly.graph_objs`\n",
    "\n",
    "```python \n",
    "import plotly.graph_objs as go\n",
    "```\n",
    "\n",
    "Następnie tworzymy obiekt `go.Figure()`\n",
    "\n",
    "```python \n",
    "fig = go.Figure()\n",
    "```\n",
    "\n",
    "Wykres liniowy dodajemy za pomocą metody `add_scatter`\n",
    "\n",
    "```python\n",
    "fig.add_scatter(\n",
    "    x=data[\"date\"],\n",
    "    y=data[\"AAPL\"],\n",
    ")\n",
    "```\n",
    "\n",
    "Wyświetlenie wykresu jest podobnie jak z wykorzystaniem biblioteki `matplotlib` przy pomocy metody `show` na obiekcie `fig`\n"
   ]
  },
  {
   "cell_type": "code",
   "execution_count": null,
   "id": "60135e68",
   "metadata": {},
   "outputs": [],
   "source": [
    "import plotly\n",
    "import plotly.graph_objs as go\n",
    "\n",
    "data = plotly.data.stocks()\n",
    "\n",
    "fig = go.Figure()\n",
    "\n",
    "fig.add_scatter(\n",
    "    x=data[\"date\"],\n",
    "    y=data[\"AAPL\"],\n",
    ")\n",
    "fig.show()"
   ]
  },
  {
   "cell_type": "markdown",
   "id": "94f3e825",
   "metadata": {},
   "source": [
    "Tytuły osi oraz tytuł wykresu możemy uzupełnić za pomocą metody `update_layout`. \n",
    "\n",
    "```python\n",
    "fig.update_layout(\n",
    "    yaxis_title=\"Close Price Ratio\",\n",
    "    xaxis_title=\"Date\",\n",
    "    title=\"AAPL Close Stock Price Ratio 2018-2019\"\n",
    ")\n",
    "```"
   ]
  },
  {
   "cell_type": "code",
   "execution_count": null,
   "id": "3398125f",
   "metadata": {},
   "outputs": [],
   "source": [
    "fig = go.Figure()\n",
    "\n",
    "fig.add_scatter(\n",
    "    x=data[\"date\"],\n",
    "    y=data[\"AAPL\"],\n",
    ")\n",
    "fig.update_layout(\n",
    "    yaxis_title=\"Close Price Ratio\",\n",
    "    xaxis_title=\"Date\",\n",
    "    title=\"AAPL Close Stock Price Ratio 2018-2019\"\n",
    ")"
   ]
  },
  {
   "cell_type": "markdown",
   "id": "41d26c86",
   "metadata": {},
   "source": [
    "### Interfejs plotly.express\n",
    "\n",
    "Plotly Express jest rekomendowanym przez twórców interfejsem do zarządzania plotly. W porówaniu do `plotly.graph_objs` jest wyższą funkcją abstrakcji i obudowuje większość funkcjonalności. Może być wykorzystany do większości zastosowań."
   ]
  },
  {
   "cell_type": "markdown",
   "id": "93151f2b",
   "metadata": {},
   "source": [
    "Przygotujmy teraz ten wcześniejszy wykres za pomocą interfejsu `plotly.express`. Wykres liniowy jest definiowany za pomoca metody `plotly.express.line`.\n",
    "\n",
    "```python\n",
    "import plotly.express as px\n",
    "\n",
    "\n",
    "fig = px.line(data_frame=data, x=\"date\", y=\"AAPL\")\n",
    "fig.show()\n",
    "```"
   ]
  },
  {
   "cell_type": "code",
   "execution_count": null,
   "id": "9054c45d",
   "metadata": {},
   "outputs": [],
   "source": [
    "import plotly.express as px\n",
    "\n",
    "\n",
    "fig = px.line(data_frame=data, x=\"date\", y=\"AAPL\")\n",
    "fig.show()"
   ]
  },
  {
   "cell_type": "markdown",
   "id": "174ed17c",
   "metadata": {},
   "source": [
    "Tytuły osi są w tutaj uzupełniane automatycznie, ale w dalszym ciągu nie odpowiadają poprzedniemu wykresowi. Tutaj również metadane modyfikujemy za pomocą metody `update_layout`."
   ]
  },
  {
   "cell_type": "code",
   "execution_count": null,
   "id": "06989fc9",
   "metadata": {},
   "outputs": [],
   "source": [
    "fig = px.line(data_frame=data, x=\"date\", y=\"AAPL\")\n",
    "fig.update_layout(\n",
    "    xaxis_title=\"Date\",\n",
    "    yaxis_title=\"Close Price Ratio\",\n",
    "    hovermode=\"x\",\n",
    "    title=\"AAPL Close Stock Price Ratio 2018-2019\"\n",
    ")\n",
    "fig.show()"
   ]
  },
  {
   "cell_type": "markdown",
   "id": "4a9b2950",
   "metadata": {},
   "source": [
    "Plotly.express wspiera również generowanie kilku osi danych. W tym przypadku najpierw musimy przemapować zbiór danych. Do tego zastosujemy metodę `melt` z obieku Pandas.DataFrame"
   ]
  },
  {
   "cell_type": "code",
   "execution_count": null,
   "id": "b471c61a",
   "metadata": {},
   "outputs": [],
   "source": [
    "df = data.melt(id_vars=[\"date\"], var_name=\"stock\", value_name=\"close price ratio\")\n",
    "fig = px.line(data_frame=df, x=\"date\", y=\"close price ratio\", color=\"stock\")\n",
    "fig.update_layout(\n",
    "    xaxis_title=\"Date\",\n",
    "    yaxis_title=\"Close Price Ratio\",\n",
    "    title=\"Close stock price ratio 2018-2019 of tech corporations\"\n",
    ")\n",
    "fig.show()"
   ]
  },
  {
   "cell_type": "markdown",
   "id": "8d5d2220",
   "metadata": {},
   "source": [
    "Plotly domyślnie podświetla najbliższy punkt na wykresie, co w przypadku wykresów z wieloma osiami Y nie do końca jest dobrym rozwiązaniem. Modyfikujemy to za pomocą metody `update_traces` i `update_layout`\n",
    "\n",
    "```python\n",
    "fig.update_traces(mode=\"markers+lines\", hovertemplate=None)\n",
    "fig.update_layout(hovermode=\"x\")\n",
    "```"
   ]
  },
  {
   "cell_type": "code",
   "execution_count": null,
   "id": "be19cedb",
   "metadata": {},
   "outputs": [],
   "source": [
    "fig = px.line(data_frame=df, x=\"date\", y=\"close price ratio\", color=\"stock\")\n",
    "fig.update_traces(mode=\"markers+lines\", hovertemplate=None)\n",
    "fig.update_layout(\n",
    "    xaxis_title=\"Date\",\n",
    "    yaxis_title=\"Close Price Ratio\",\n",
    "    title=\"Close stock price ratio 2018-2019 of tech corporations\",\n",
    "    hovermode=\"x\"\n",
    ")\n",
    "fig.show()\n"
   ]
  },
  {
   "cell_type": "markdown",
   "id": "76751797",
   "metadata": {},
   "source": [
    "Obecny tryb wyświetlania powoduje, że wartość jest wyświetlana w zależności od pozycji na osi y. Możemy zmienić to zachowanie i wyświetlać wszystko w obrębie jednego obiektu. Wystarczy zmienić parametr `hovermode` na `x unified`"
   ]
  },
  {
   "cell_type": "code",
   "execution_count": null,
   "id": "baeb12bd",
   "metadata": {},
   "outputs": [],
   "source": [
    "fig = px.line(data_frame=df, x=\"date\", y=\"close price ratio\", color=\"stock\")\n",
    "fig.update_traces(mode=\"markers+lines\", hovertemplate=None)\n",
    "fig.update_layout(\n",
    "    xaxis_title=\"Date\",\n",
    "    yaxis_title=\"Close Price Ratio\",\n",
    "    title=\"Close stock price ratio 2018-2019 of tech corporations\",\n",
    "    hovermode=\"x unified\"\n",
    ")\n",
    "fig.show()"
   ]
  },
  {
   "cell_type": "markdown",
   "id": "8f82d4b9",
   "metadata": {},
   "source": [
    "Następną rzeczą przydatną w analizowaniu serii czasowych jest dodanie suwaka, za pomocą którego w szybkie sposób możemy zmieniać zakresy dat.\n"
   ]
  },
  {
   "cell_type": "code",
   "execution_count": null,
   "id": "7f5215a6",
   "metadata": {
    "scrolled": false
   },
   "outputs": [],
   "source": [
    "fig = px.line(data_frame=df, x=\"date\", y=\"close price ratio\", color=\"stock\")\n",
    "fig.update_traces(mode=\"markers+lines\", hovertemplate=None)\n",
    "fig.update_layout(\n",
    "    xaxis_title=\"Date\",\n",
    "    yaxis_title=\"Close Price Ratio\",\n",
    "    title=\"Close stock price ratio 2018-2019 of tech corporations\",\n",
    "    hovermode=\"x unified\"\n",
    ")\n",
    "fig.update_xaxes(rangeslider_visible=True)\n",
    "fig.show()"
   ]
  },
  {
   "cell_type": "markdown",
   "id": "370bcf17",
   "metadata": {},
   "source": [
    "Jeżeli mamy zakresy dat które chcemy sprawdzić za każdym razem, zamiast ciągłego przesuwania suwaka możemy dodać przyciski, które będą zmieniać zakresy.\n",
    "\n",
    "W tym celu definiujemy słownik z przyciskami. Aby stworzyć przycisk musimy zdefiniować kilka parametrów:\n",
    "- step (krok)\n",
    "- count (liczba)\n",
    "- label (etykieta)\n",
    "- stepmode (typ kroku): backward (ostatni zakres ze zbioru danych) czyli np. 15 listopad - 15 grudzień, todate (ostatni zakres wyrównany względem kalendarza) - 1 grudzień - 31 grudzień.\n",
    "\n",
    "Słownik jest przekazywany jako argument `rangeselector` do metody `update_axes` obiektu `fig`."
   ]
  },
  {
   "cell_type": "code",
   "execution_count": null,
   "id": "faa06d38",
   "metadata": {},
   "outputs": [],
   "source": [
    "fig = px.line(data_frame=df, x=\"date\", y=\"close price ratio\", color=\"stock\")\n",
    "fig.update_traces(mode=\"lines\", hovertemplate=None)\n",
    "fig.update_layout(\n",
    "    xaxis_title=\"Date\",\n",
    "    yaxis_title=\"Close Price Ratio\",\n",
    "    title=\"Close stock price ratio 2018-2019 of tech corporations\",\n",
    "    hovermode=\"x unified\"\n",
    ")\n",
    "fig.update_xaxes(\n",
    "    rangeslider_visible=True,\n",
    "    rangeselector=dict(\n",
    "        buttons=list([\n",
    "            dict(count=1, label=\"1m\", step=\"month\", stepmode=\"todate\"),\n",
    "            dict(count=6, label=\"6m\", step=\"month\", stepmode=\"backward\"),\n",
    "            dict(count=1, label=\"1y\", step=\"year\", stepmode=\"backward\"),\n",
    "            dict(step=\"all\")\n",
    "        ])\n",
    "    )\n",
    ")\n",
    "fig.show()"
   ]
  }
 ],
 "metadata": {
  "kernelspec": {
   "display_name": "Python 3 (ipykernel)",
   "language": "python",
   "name": "python3"
  },
  "language_info": {
   "codemirror_mode": {
    "name": "ipython",
    "version": 3
   },
   "file_extension": ".py",
   "mimetype": "text/x-python",
   "name": "python",
   "nbconvert_exporter": "python",
   "pygments_lexer": "ipython3",
   "version": "3.9.7"
  }
 },
 "nbformat": 4,
 "nbformat_minor": 5
}
