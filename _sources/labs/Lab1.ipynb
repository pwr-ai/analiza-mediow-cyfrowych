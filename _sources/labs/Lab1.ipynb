{
 "cells": [
  {
   "cell_type": "markdown",
   "id": "73f93073",
   "metadata": {},
   "source": [
    "# Lista nr 1\n",
    "\n",
    "Celem listy zadań jest zapoznanie się z popularnymi metodami scrapowania danych budowa zbioru danych (zbiór wykorzystany będzie również do realizacji następnych zadań) oraz wizualizacja jego podstawowych statystyk"
   ]
  },
  {
   "cell_type": "markdown",
   "id": "d2f7f03b",
   "metadata": {},
   "source": [
    "### (15 pkt) 1. Scrapowanie danych\n",
    "Zbuduj lub zaadaptuj wybrane narzędzie do pobierania danych z wybranego serwisu społecznościowego (twitter, wykop, reddit, youtube). "
   ]
  },
  {
   "cell_type": "markdown",
   "id": "c62734a8",
   "metadata": {},
   "source": [
    "a) **(5 pkt)** Przygotuj listę użytkowników udzielająych się w ramach tematów zadnych przez prowadzącego zajęcia. Lista użytkowników może być przygotowana automatycznie lub ręcznie. Wymagane jest zidentifikowanie min. 50 użytkowników którzy udzielają się w jednym z dwóch tematów.\n"
   ]
  },
  {
   "cell_type": "markdown",
   "id": "a7c6dd12",
   "metadata": {},
   "source": [
    "b) **(5 pkt)** Pobierz aktywność użytkowników w zadanych przez prowadzącego tematach. Na aktywność użytkownika składają się:\n",
    "- wpisy  \n",
    "- komentarze (wraz z komentowanym wpisem))"
   ]
  },
  {
   "cell_type": "markdown",
   "id": "0f9d584f",
   "metadata": {},
   "source": [
    "c) **(5 pkt)** Zapewnij odpowiedni rozmiar zbioru do dalszych analiz. Zbiór danych powinien składać się minimum z 5000 wpisów lub/i komentarzy"
   ]
  },
  {
   "cell_type": "markdown",
   "id": "173f8b8c",
   "metadata": {},
   "source": [
    "### UWAGA\n",
    "W przypadku problemów z uzyskaniem odpowiedniej liczności danych prosimy o pilny kontkat z prowadzącym!"
   ]
  },
  {
   "cell_type": "markdown",
   "id": "d714f60c",
   "metadata": {},
   "source": [
    "### (5 pkt) 2. Analiza pobranych danych \n",
    "\n",
    "Wykorzystaj jedną z bibliotek przeznaczonych do tworzenia interaktywnych wykresów do przygotowania wizualnej analizy pobranych danych"
   ]
  },
  {
   "cell_type": "markdown",
   "id": "75f103bc",
   "metadata": {},
   "source": [
    "a) **(3 pkt)** Przedstaw wykres liczby wpisów w czasie. Uwzględnij temat z jakiego były pobrany tweet. Odrębna oś dla każdego czasu, oraz dodatkowa dla wszystkich razem."
   ]
  },
  {
   "cell_type": "markdown",
   "id": "a8d5d6ff",
   "metadata": {},
   "source": [
    "b) **(2 pkt)** Przedstaw histogram opisujący liczbę tematów w jakich udzielają się użytkownicy"
   ]
  }
 ],
 "metadata": {
  "kernelspec": {
   "display_name": "Python 3 (ipykernel)",
   "language": "python",
   "name": "python3"
  },
  "language_info": {
   "codemirror_mode": {
    "name": "ipython",
    "version": 3
   },
   "file_extension": ".py",
   "mimetype": "text/x-python",
   "name": "python",
   "nbconvert_exporter": "python",
   "pygments_lexer": "ipython3",
   "version": "3.9.7"
  }
 },
 "nbformat": 4,
 "nbformat_minor": 5
}
